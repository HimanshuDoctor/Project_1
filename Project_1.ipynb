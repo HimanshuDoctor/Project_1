{
 "cells": [
  {
   "cell_type": "code",
   "execution_count": 1,
   "metadata": {},
   "outputs": [],
   "source": [
    "# grid = [['.', '.', '.', '.', '.', '.'],\n",
    "# ['.', 'O', 'O', '.', '.', '.'],\n",
    "# ['O', 'O', 'O', 'O', '.', '.'],\n",
    "# ['O', 'O', 'O', 'O', 'O', '.'],\n",
    "# ['.', 'O', 'O', 'O', 'O', 'O'],\n",
    "# ['O', 'O', 'O', 'O', 'O', '.'],\n",
    "# ['O', 'O', 'O', 'O', '.', '.'],\n",
    "# ['.', 'O', 'O', '.', '.', '.'],\n",
    "# ['.', '.', '.', '.', '.', '.']]\n",
    "\n",
    "\n",
    "\n",
    "# output-\n",
    "\n",
    "# ..OO.OO..\n",
    "# .OOOOOOO.\n",
    "# .OOOOOOO.\n",
    "# ..OOOOO..\n",
    "# ...OOO...\n",
    "# ....O....   "
   ]
  },
  {
   "cell_type": "code",
   "execution_count": 2,
   "metadata": {},
   "outputs": [],
   "source": [
    "grid = [['.', '.', '.', '.', '.', '.'],\n",
    "['.', 'O', 'O', '.', '.', '.'],\n",
    "['O', 'O', 'O', 'O', '.', '.'],\n",
    "['O', 'O', 'O', 'O', 'O', '.'],\n",
    "['.', 'O', 'O', 'O', 'O', 'O'],\n",
    "['O', 'O', 'O', 'O', 'O', '.'],\n",
    "['O', 'O', 'O', 'O', '.', '.'],\n",
    "['.', 'O', 'O', '.', '.', '.'],\n",
    "['.', '.', '.', '.', '.', '.']]"
   ]
  },
  {
   "cell_type": "code",
   "execution_count": 3,
   "metadata": {},
   "outputs": [
    {
     "data": {
      "text/plain": [
       "9"
      ]
     },
     "execution_count": 3,
     "metadata": {},
     "output_type": "execute_result"
    }
   ],
   "source": [
    "len(grid)"
   ]
  },
  {
   "cell_type": "code",
   "execution_count": 15,
   "metadata": {},
   "outputs": [
    {
     "name": "stdout",
     "output_type": "stream",
     "text": [
      ".\n",
      ".\n",
      ".\n",
      ".\n",
      ".\n",
      ".\n",
      "\n",
      ".\n",
      "O\n",
      "O\n",
      ".\n",
      ".\n",
      ".\n",
      "\n",
      "O\n",
      "O\n",
      "O\n",
      "O\n",
      ".\n",
      ".\n",
      "\n",
      "O\n",
      "O\n",
      "O\n",
      "O\n",
      "O\n",
      ".\n",
      "\n",
      ".\n",
      "O\n",
      "O\n",
      "O\n",
      "O\n",
      "O\n",
      "\n",
      "O\n",
      "O\n",
      "O\n",
      "O\n",
      "O\n",
      ".\n",
      "\n",
      "O\n",
      "O\n",
      "O\n",
      "O\n",
      ".\n",
      ".\n",
      "\n",
      ".\n",
      "O\n",
      "O\n",
      ".\n",
      ".\n",
      ".\n",
      "\n",
      ".\n",
      ".\n",
      ".\n",
      ".\n",
      ".\n",
      ".\n",
      "\n"
     ]
    }
   ],
   "source": [
    "for i in range(len(grid)):\n",
    "    for j in range(len(grid[i])):\n",
    "        print(grid[i][j])\n",
    "    print()    "
   ]
  },
  {
   "cell_type": "code",
   "execution_count": null,
   "metadata": {},
   "outputs": [],
   "source": [
    "# In Python 3.x, the end=' ' is used to place a space after the displayed string instead of a newline.\n",
    "              "
   ]
  },
  {
   "cell_type": "code",
   "execution_count": 17,
   "metadata": {},
   "outputs": [
    {
     "name": "stdout",
     "output_type": "stream",
     "text": [
      ". . . . . . . O O . . . O O O O . . O O O O O . . O O O O O O O O O O . O O O O . . . O O . . . . . . . . . "
     ]
    }
   ],
   "source": [
    "for i in range(len(grid)):\n",
    "    for j in range(len(grid[i])):\n",
    "        print(grid[i][j], end=' ' )\n",
    "     "
   ]
  },
  {
   "cell_type": "code",
   "execution_count": 13,
   "metadata": {},
   "outputs": [
    {
     "name": "stdout",
     "output_type": "stream",
     "text": [
      ".  .  .  .  .  .  \n",
      ".  O  O  .  .  .  \n",
      "O  O  O  O  .  .  \n",
      "O  O  O  O  O  .  \n",
      ".  O  O  O  O  O  \n",
      "O  O  O  O  O  .  \n",
      "O  O  O  O  .  .  \n",
      ".  O  O  .  .  .  \n",
      ".  .  .  .  .  .  \n"
     ]
    }
   ],
   "source": [
    "for i in range(len(grid)):\n",
    "    for j in range(len(grid[i])):\n",
    "        print(grid[i][j], end='  ' )\n",
    "    print()"
   ]
  },
  {
   "cell_type": "code",
   "execution_count": 14,
   "metadata": {},
   "outputs": [
    {
     "name": "stdout",
     "output_type": "stream",
     "text": [
      ".  .  O  O  .  O  O  .  .  \n",
      ".  O  O  O  O  O  O  O  .  \n",
      ".  O  O  O  O  O  O  O  .  \n",
      ".  .  O  O  O  O  O  .  .  \n",
      ".  .  .  O  O  O  .  .  .  \n",
      ".  .  .  .  O  .  .  .  .  \n"
     ]
    }
   ],
   "source": [
    " for j in range(len(grid[i])):\n",
    "        for i in range(len(grid)):\n",
    "             print(grid[i][j], end='  ' )\n",
    "        print()        \n",
    "        "
   ]
  },
  {
   "cell_type": "code",
   "execution_count": 19,
   "metadata": {},
   "outputs": [
    {
     "data": {
      "text/plain": [
       "6"
      ]
     },
     "execution_count": 19,
     "metadata": {},
     "output_type": "execute_result"
    }
   ],
   "source": [
    "len(grid[i])"
   ]
  },
  {
   "cell_type": "code",
   "execution_count": null,
   "metadata": {},
   "outputs": [],
   "source": []
  }
 ],
 "metadata": {
  "kernelspec": {
   "display_name": "Python 3",
   "language": "python",
   "name": "python3"
  },
  "language_info": {
   "codemirror_mode": {
    "name": "ipython",
    "version": 3
   },
   "file_extension": ".py",
   "mimetype": "text/x-python",
   "name": "python",
   "nbconvert_exporter": "python",
   "pygments_lexer": "ipython3",
   "version": "3.7.6"
  }
 },
 "nbformat": 4,
 "nbformat_minor": 4
}
